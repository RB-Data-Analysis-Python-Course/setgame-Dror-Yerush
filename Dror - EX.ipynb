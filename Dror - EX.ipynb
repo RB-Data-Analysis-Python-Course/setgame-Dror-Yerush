{
 "cells": [
  {
   "cell_type": "code",
   "execution_count": 1,
   "metadata": {},
   "outputs": [],
   "source": [
    "import numpy as np\n",
    "from random import randint\n",
    "from random import shuffle"
   ]
  },
  {
   "cell_type": "code",
   "execution_count": 2,
   "metadata": {
    "scrolled": true
   },
   "outputs": [
    {
     "name": "stdout",
     "output_type": "stream",
     "text": [
      "81\n",
      "[(0, 0, 0, 0), (0, 0, 0, 1), (0, 0, 0, 2), (0, 0, 1, 0), (0, 0, 1, 1), (0, 0, 1, 2), (0, 0, 2, 0), (0, 0, 2, 1), (0, 0, 2, 2), (0, 1, 0, 0), (0, 1, 0, 1), (0, 1, 0, 2), (0, 1, 1, 0), (0, 1, 1, 1), (0, 1, 1, 2), (0, 1, 2, 0), (0, 1, 2, 1), (0, 1, 2, 2), (0, 2, 0, 0), (0, 2, 0, 1), (0, 2, 0, 2), (0, 2, 1, 0), (0, 2, 1, 1), (0, 2, 1, 2), (0, 2, 2, 0), (0, 2, 2, 1), (0, 2, 2, 2), (1, 0, 0, 0), (1, 0, 0, 1), (1, 0, 0, 2), (1, 0, 1, 0), (1, 0, 1, 1), (1, 0, 1, 2), (1, 0, 2, 0), (1, 0, 2, 1), (1, 0, 2, 2), (1, 1, 0, 0), (1, 1, 0, 1), (1, 1, 0, 2), (1, 1, 1, 0), (1, 1, 1, 1), (1, 1, 1, 2), (1, 1, 2, 0), (1, 1, 2, 1), (1, 1, 2, 2), (1, 2, 0, 0), (1, 2, 0, 1), (1, 2, 0, 2), (1, 2, 1, 0), (1, 2, 1, 1), (1, 2, 1, 2), (1, 2, 2, 0), (1, 2, 2, 1), (1, 2, 2, 2), (2, 0, 0, 0), (2, 0, 0, 1), (2, 0, 0, 2), (2, 0, 1, 0), (2, 0, 1, 1), (2, 0, 1, 2), (2, 0, 2, 0), (2, 0, 2, 1), (2, 0, 2, 2), (2, 1, 0, 0), (2, 1, 0, 1), (2, 1, 0, 2), (2, 1, 1, 0), (2, 1, 1, 1), (2, 1, 1, 2), (2, 1, 2, 0), (2, 1, 2, 1), (2, 1, 2, 2), (2, 2, 0, 0), (2, 2, 0, 1), (2, 2, 0, 2), (2, 2, 1, 0), (2, 2, 1, 1), (2, 2, 1, 2), (2, 2, 2, 0), (2, 2, 2, 1), (2, 2, 2, 2)]\n"
     ]
    }
   ],
   "source": [
    "card_deck = []\n",
    "for x in range(0,81):\n",
    "    out_num = np.base_repr(x, base = 3, padding = 0) \n",
    "    if len(out_num)==1:\n",
    "        a=int(out_num[0])\n",
    "        b=0\n",
    "        c=0\n",
    "        d=0\n",
    "        card_deck.append((d,c,b,a))\n",
    "    elif len(out_num)==2:\n",
    "        a=int(out_num[1])\n",
    "        b=int(out_num[0])\n",
    "        c=0\n",
    "        d=0\n",
    "        card_deck.append((d,c,b,a))\n",
    "    elif len(out_num)==3:\n",
    "        a=int(out_num[2])\n",
    "        b=int(out_num[1])\n",
    "        c=int(out_num[0])\n",
    "        d=0\n",
    "        card_deck.append((d,c,b,a))\n",
    "    else:\n",
    "        a=int(out_num[3])\n",
    "        b=int(out_num[2])\n",
    "        c=int(out_num[1])\n",
    "        d=int(out_num[0])\n",
    "        card_deck.append((d,c,b,a))\n",
    "print (len(card_deck))\n",
    "print (card_deck)"
   ]
  },
  {
   "cell_type": "code",
   "execution_count": 3,
   "metadata": {},
   "outputs": [
    {
     "name": "stdout",
     "output_type": "stream",
     "text": [
      "[(2, 1, 1, 1), (2, 0, 2, 1), (2, 2, 0, 1), (2, 0, 2, 0), (0, 2, 0, 2), (1, 1, 0, 2), (1, 0, 2, 1), (2, 0, 1, 0), (1, 0, 2, 0), (2, 1, 1, 2), (2, 0, 1, 1), (0, 0, 1, 2), (1, 0, 1, 0), (2, 2, 0, 0), (0, 1, 1, 0), (0, 1, 1, 2), (0, 0, 2, 1), (1, 2, 1, 2), (2, 1, 0, 1), (0, 2, 2, 0), (0, 0, 0, 0), (0, 1, 0, 2), (1, 1, 1, 0), (0, 2, 2, 1), (0, 0, 0, 1), (1, 2, 0, 0), (2, 2, 2, 0), (2, 2, 2, 2), (1, 1, 0, 1), (2, 0, 0, 2), (1, 1, 2, 2), (2, 2, 1, 1), (2, 2, 1, 2), (2, 2, 2, 1), (1, 0, 1, 1), (2, 1, 0, 0), (2, 0, 0, 0), (1, 2, 2, 1), (2, 1, 2, 2), (1, 2, 1, 1), (2, 1, 2, 0), (0, 0, 0, 2), (2, 1, 0, 2), (2, 0, 1, 2), (1, 2, 1, 0), (2, 0, 2, 2), (0, 0, 2, 2), (1, 1, 2, 1), (1, 1, 1, 1), (2, 1, 2, 1), (0, 2, 2, 2), (0, 1, 0, 0), (0, 2, 1, 0), (0, 2, 1, 2), (0, 0, 2, 0), (0, 0, 1, 1), (0, 2, 1, 1), (2, 1, 1, 0), (1, 1, 2, 0), (2, 0, 0, 1), (1, 2, 2, 2), (2, 2, 0, 2), (1, 2, 0, 2), (1, 0, 1, 2), (0, 2, 0, 0), (0, 1, 2, 1), (2, 2, 1, 0), (1, 0, 0, 2), (0, 1, 0, 1), (1, 2, 0, 1), (1, 1, 0, 0), (1, 2, 2, 0), (0, 1, 2, 0), (1, 1, 1, 2), (1, 0, 2, 2), (1, 0, 0, 0), (0, 1, 1, 1), (0, 1, 2, 2), (0, 0, 1, 0), (0, 2, 0, 1), (1, 0, 0, 1)]\n"
     ]
    }
   ],
   "source": [
    "shuffle(card_deck)\n",
    "print (card_deck)"
   ]
  },
  {
   "cell_type": "code",
   "execution_count": 4,
   "metadata": {},
   "outputs": [],
   "source": [
    "def Draw_12():\n",
    "    _12_num = set()\n",
    "    set_of_12_cards = []\n",
    "    while len(_12_num)<12:\n",
    "        _12_num.add(randint(0,80))\n",
    "    while len(set_of_12_cards)<12:\n",
    "        set_of_12_cards.append(card_deck[_12_num.pop()])\n",
    "    return set_of_12_cards\n",
    "# Draw 12 random cards"
   ]
  },
  {
   "cell_type": "code",
   "execution_count": 5,
   "metadata": {},
   "outputs": [],
   "source": [
    "  def set_rules(el_type):\n",
    "    if  (el_type[0]==el_type[1] and el_type[0]==el_type[2] and el_type[1]==el_type[2]) or (el_type[0]!=el_type[1] and el_type[0]!=el_type[2] and el_type[1]!=el_type[2]):\n",
    "        return True\n",
    "    else:\n",
    "        return False\n",
    "\n",
    "def is_set(card_1,card_2,card_3):\n",
    "    Form = (card_1[0],card_2[0],card_3[0])\n",
    "    Fill = (card_1[1],card_2[1],card_3[1])\n",
    "    Color = (card_1[2],card_2[2],card_3[2])\n",
    "    Num = (card_1[3],card_2[3],card_3[3])\n",
    "    \n",
    "    if  (set_rules(Form) and set_rules(Fill) and set_rules(Color) and set_rules(Num)):\n",
    "        return True\n",
    "    else:\n",
    "        return False"
   ]
  },
  {
   "cell_type": "code",
   "execution_count": 6,
   "metadata": {
    "scrolled": true
   },
   "outputs": [],
   "source": [
    "import itertools\n",
    "a = [0,1,2,3,4,5,6,7,8,9,10,11]\n",
    "all_combinations = []\n",
    "for r in range(len(a) + 1):\n",
    "    combinations_object = itertools.combinations(a, 3)\n",
    "    combinations_list = list(combinations_object)\n",
    "#List of all possible combinations between 12 cards"
   ]
  },
  {
   "cell_type": "code",
   "execution_count": 7,
   "metadata": {},
   "outputs": [],
   "source": [
    "def print_sets(cards):\n",
    "    for comb in combinations_list: \n",
    "        if is_set(cards[comb[0]],cards[comb[1]],cards[comb[2]]):\n",
    "            print(\"We got a set!\")\n",
    "            print(cards[comb[0]])\n",
    "            print(cards[comb[1]])\n",
    "            print(cards[comb[2]])\n",
    "            print(\"\")\n"
   ]
  },
  {
   "cell_type": "code",
   "execution_count": 8,
   "metadata": {},
   "outputs": [
    {
     "name": "stdout",
     "output_type": "stream",
     "text": [
      "[(0, 1, 2, 1), (1, 0, 0, 2), (1, 2, 2, 1), (1, 1, 0, 2), (1, 0, 2, 2), (0, 0, 2, 2), (0, 1, 1, 2), (1, 2, 1, 2), (0, 2, 2, 2), (0, 2, 1, 0), (0, 2, 2, 1), (0, 2, 1, 1)]\n",
      "\n",
      "We got a set!\n",
      "(1, 1, 0, 2)\n",
      "(1, 0, 2, 2)\n",
      "(1, 2, 1, 2)\n",
      "\n"
     ]
    }
   ],
   "source": [
    "first_draw= Draw_12()\n",
    "print (first_draw)\n",
    "print(\"\")\n",
    "print_sets(first_draw)"
   ]
  },
  {
   "cell_type": "code",
   "execution_count": 9,
   "metadata": {},
   "outputs": [],
   "source": [
    "def num_of_sets(cards):\n",
    "    num_of_set=0\n",
    "    for comb in combinations_list: \n",
    "        if is_set(cards[comb[0]],cards[comb[1]],cards[comb[2]]):\n",
    "            num_of_set += 1\n",
    "    return num_of_set"
   ]
  },
  {
   "cell_type": "code",
   "execution_count": 10,
   "metadata": {},
   "outputs": [
    {
     "data": {
      "text/plain": [
       "3"
      ]
     },
     "execution_count": 10,
     "metadata": {},
     "output_type": "execute_result"
    }
   ],
   "source": [
    "num_of_sets(Draw_12())"
   ]
  },
  {
   "cell_type": "code",
   "execution_count": 11,
   "metadata": {},
   "outputs": [
    {
     "name": "stdout",
     "output_type": "stream",
     "text": [
      "Number of no sets:\n",
      "345\n",
      "Number of sets:\n",
      "9655\n",
      "Percentage of cases without a set:\n",
      "3.45%\n"
     ]
    }
   ],
   "source": [
    "no_sets_counter = 0\n",
    "sets_counter = 0\n",
    "for _ in range(0,10000):\n",
    "    if num_of_sets(Draw_12()) > 0:\n",
    "        sets_counter += 1\n",
    "    else:\n",
    "        no_sets_counter += 1\n",
    "print('Number of no sets:')\n",
    "print(no_sets_counter)\n",
    "print('Number of sets:')\n",
    "print(sets_counter)\n",
    "print('Percentage of cases without a set:')\n",
    "print(f'{no_sets_counter/(no_sets_counter+sets_counter)*100}%')"
   ]
  },
  {
   "cell_type": "code",
   "execution_count": null,
   "metadata": {},
   "outputs": [],
   "source": []
  }
 ],
 "metadata": {
  "kernelspec": {
   "display_name": "Python 3",
   "language": "python",
   "name": "python3"
  },
  "language_info": {
   "codemirror_mode": {
    "name": "ipython",
    "version": 3
   },
   "file_extension": ".py",
   "mimetype": "text/x-python",
   "name": "python",
   "nbconvert_exporter": "python",
   "pygments_lexer": "ipython3",
   "version": "3.8.3"
  }
 },
 "nbformat": 4,
 "nbformat_minor": 4
}
